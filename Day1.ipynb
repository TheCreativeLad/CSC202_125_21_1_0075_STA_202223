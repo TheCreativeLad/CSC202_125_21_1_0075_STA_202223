{
 "cells": [
  {
   "cell_type": "code",
   "execution_count": 9,
   "id": "78efdf39",
   "metadata": {},
   "outputs": [
    {
     "name": "stdout",
     "output_type": "stream",
     "text": [
      "Two digit numbers99\n",
      "18\n"
     ]
    }
   ],
   "source": [
    "# Day 2\n",
    "\n",
    "num_1 = input(\"Two digit numbers\")\n",
    "type(num_1)\n",
    "\n",
    "num_first = int(num_1[0])\n",
    "num_second = int(num_1[1])\n",
    "\n",
    "print(num_first + num_second)"
   ]
  }
 ],
 "metadata": {
  "kernelspec": {
   "display_name": "Python 3 (ipykernel)",
   "language": "python",
   "name": "python3"
  },
  "language_info": {
   "codemirror_mode": {
    "name": "ipython",
    "version": 3
   },
   "file_extension": ".py",
   "mimetype": "text/x-python",
   "name": "python",
   "nbconvert_exporter": "python",
   "pygments_lexer": "ipython3",
   "version": "3.9.13"
  }
 },
 "nbformat": 4,
 "nbformat_minor": 5
}
